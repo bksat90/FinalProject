{
  "nbformat": 4,
  "nbformat_minor": 0,
  "metadata": {
    "colab": {
      "provenance": [],
      "gpuType": "T4",
      "authorship_tag": "ABX9TyNWc9qg26IpUMKpbU6RXeCT",
      "include_colab_link": true
    },
    "kernelspec": {
      "name": "python3",
      "display_name": "Python 3"
    },
    "language_info": {
      "name": "python"
    },
    "accelerator": "GPU"
  },
  "cells": [
    {
      "cell_type": "markdown",
      "metadata": {
        "id": "view-in-github",
        "colab_type": "text"
      },
      "source": [
        "<a href=\"https://colab.research.google.com/github/bksat90/FinalProject/blob/main/classification_cnn.ipynb\" target=\"_parent\"><img src=\"https://colab.research.google.com/assets/colab-badge.svg\" alt=\"Open In Colab\"/></a>"
      ]
    },
    {
      "cell_type": "code",
      "source": [
        "!pip install tensorflow==2.15"
      ],
      "metadata": {
        "colab": {
          "base_uri": "https://localhost:8080/"
        },
        "id": "NWE08nppO5xt",
        "outputId": "9e327141-4d81-4ff1-f8a1-a54919b2a960"
      },
      "execution_count": 1,
      "outputs": [
        {
          "output_type": "stream",
          "name": "stdout",
          "text": [
            "Requirement already satisfied: tensorflow==2.15 in /usr/local/lib/python3.10/dist-packages (2.15.0)\n",
            "Requirement already satisfied: absl-py>=1.0.0 in /usr/local/lib/python3.10/dist-packages (from tensorflow==2.15) (1.4.0)\n",
            "Requirement already satisfied: astunparse>=1.6.0 in /usr/local/lib/python3.10/dist-packages (from tensorflow==2.15) (1.6.3)\n",
            "Requirement already satisfied: flatbuffers>=23.5.26 in /usr/local/lib/python3.10/dist-packages (from tensorflow==2.15) (24.3.25)\n",
            "Requirement already satisfied: gast!=0.5.0,!=0.5.1,!=0.5.2,>=0.2.1 in /usr/local/lib/python3.10/dist-packages (from tensorflow==2.15) (0.6.0)\n",
            "Requirement already satisfied: google-pasta>=0.1.1 in /usr/local/lib/python3.10/dist-packages (from tensorflow==2.15) (0.2.0)\n",
            "Requirement already satisfied: h5py>=2.9.0 in /usr/local/lib/python3.10/dist-packages (from tensorflow==2.15) (3.12.1)\n",
            "Requirement already satisfied: libclang>=13.0.0 in /usr/local/lib/python3.10/dist-packages (from tensorflow==2.15) (18.1.1)\n",
            "Requirement already satisfied: ml-dtypes~=0.2.0 in /usr/local/lib/python3.10/dist-packages (from tensorflow==2.15) (0.2.0)\n",
            "Requirement already satisfied: numpy<2.0.0,>=1.23.5 in /usr/local/lib/python3.10/dist-packages (from tensorflow==2.15) (1.26.4)\n",
            "Requirement already satisfied: opt-einsum>=2.3.2 in /usr/local/lib/python3.10/dist-packages (from tensorflow==2.15) (3.4.0)\n",
            "Requirement already satisfied: packaging in /usr/local/lib/python3.10/dist-packages (from tensorflow==2.15) (24.2)\n",
            "Requirement already satisfied: protobuf!=4.21.0,!=4.21.1,!=4.21.2,!=4.21.3,!=4.21.4,!=4.21.5,<5.0.0dev,>=3.20.3 in /usr/local/lib/python3.10/dist-packages (from tensorflow==2.15) (4.25.5)\n",
            "Requirement already satisfied: setuptools in /usr/local/lib/python3.10/dist-packages (from tensorflow==2.15) (75.1.0)\n",
            "Requirement already satisfied: six>=1.12.0 in /usr/local/lib/python3.10/dist-packages (from tensorflow==2.15) (1.16.0)\n",
            "Requirement already satisfied: termcolor>=1.1.0 in /usr/local/lib/python3.10/dist-packages (from tensorflow==2.15) (2.5.0)\n",
            "Requirement already satisfied: typing-extensions>=3.6.6 in /usr/local/lib/python3.10/dist-packages (from tensorflow==2.15) (4.12.2)\n",
            "Requirement already satisfied: wrapt<1.15,>=1.11.0 in /usr/local/lib/python3.10/dist-packages (from tensorflow==2.15) (1.14.1)\n",
            "Requirement already satisfied: tensorflow-io-gcs-filesystem>=0.23.1 in /usr/local/lib/python3.10/dist-packages (from tensorflow==2.15) (0.37.1)\n",
            "Requirement already satisfied: grpcio<2.0,>=1.24.3 in /usr/local/lib/python3.10/dist-packages (from tensorflow==2.15) (1.68.0)\n",
            "Requirement already satisfied: tensorboard<2.16,>=2.15 in /usr/local/lib/python3.10/dist-packages (from tensorflow==2.15) (2.15.2)\n",
            "Requirement already satisfied: tensorflow-estimator<2.16,>=2.15.0 in /usr/local/lib/python3.10/dist-packages (from tensorflow==2.15) (2.15.0)\n",
            "Requirement already satisfied: keras<2.16,>=2.15.0 in /usr/local/lib/python3.10/dist-packages (from tensorflow==2.15) (2.15.0)\n",
            "Requirement already satisfied: wheel<1.0,>=0.23.0 in /usr/local/lib/python3.10/dist-packages (from astunparse>=1.6.0->tensorflow==2.15) (0.45.0)\n",
            "Requirement already satisfied: google-auth<3,>=1.6.3 in /usr/local/lib/python3.10/dist-packages (from tensorboard<2.16,>=2.15->tensorflow==2.15) (2.27.0)\n",
            "Requirement already satisfied: google-auth-oauthlib<2,>=0.5 in /usr/local/lib/python3.10/dist-packages (from tensorboard<2.16,>=2.15->tensorflow==2.15) (1.2.1)\n",
            "Requirement already satisfied: markdown>=2.6.8 in /usr/local/lib/python3.10/dist-packages (from tensorboard<2.16,>=2.15->tensorflow==2.15) (3.7)\n",
            "Requirement already satisfied: requests<3,>=2.21.0 in /usr/local/lib/python3.10/dist-packages (from tensorboard<2.16,>=2.15->tensorflow==2.15) (2.32.3)\n",
            "Requirement already satisfied: tensorboard-data-server<0.8.0,>=0.7.0 in /usr/local/lib/python3.10/dist-packages (from tensorboard<2.16,>=2.15->tensorflow==2.15) (0.7.2)\n",
            "Requirement already satisfied: werkzeug>=1.0.1 in /usr/local/lib/python3.10/dist-packages (from tensorboard<2.16,>=2.15->tensorflow==2.15) (3.1.3)\n",
            "Requirement already satisfied: cachetools<6.0,>=2.0.0 in /usr/local/lib/python3.10/dist-packages (from google-auth<3,>=1.6.3->tensorboard<2.16,>=2.15->tensorflow==2.15) (5.5.0)\n",
            "Requirement already satisfied: pyasn1-modules>=0.2.1 in /usr/local/lib/python3.10/dist-packages (from google-auth<3,>=1.6.3->tensorboard<2.16,>=2.15->tensorflow==2.15) (0.4.1)\n",
            "Requirement already satisfied: rsa<5,>=3.1.4 in /usr/local/lib/python3.10/dist-packages (from google-auth<3,>=1.6.3->tensorboard<2.16,>=2.15->tensorflow==2.15) (4.9)\n",
            "Requirement already satisfied: requests-oauthlib>=0.7.0 in /usr/local/lib/python3.10/dist-packages (from google-auth-oauthlib<2,>=0.5->tensorboard<2.16,>=2.15->tensorflow==2.15) (1.3.1)\n",
            "Requirement already satisfied: charset-normalizer<4,>=2 in /usr/local/lib/python3.10/dist-packages (from requests<3,>=2.21.0->tensorboard<2.16,>=2.15->tensorflow==2.15) (3.4.0)\n",
            "Requirement already satisfied: idna<4,>=2.5 in /usr/local/lib/python3.10/dist-packages (from requests<3,>=2.21.0->tensorboard<2.16,>=2.15->tensorflow==2.15) (3.10)\n",
            "Requirement already satisfied: urllib3<3,>=1.21.1 in /usr/local/lib/python3.10/dist-packages (from requests<3,>=2.21.0->tensorboard<2.16,>=2.15->tensorflow==2.15) (2.2.3)\n",
            "Requirement already satisfied: certifi>=2017.4.17 in /usr/local/lib/python3.10/dist-packages (from requests<3,>=2.21.0->tensorboard<2.16,>=2.15->tensorflow==2.15) (2024.8.30)\n",
            "Requirement already satisfied: MarkupSafe>=2.1.1 in /usr/local/lib/python3.10/dist-packages (from werkzeug>=1.0.1->tensorboard<2.16,>=2.15->tensorflow==2.15) (3.0.2)\n",
            "Requirement already satisfied: pyasn1<0.7.0,>=0.4.6 in /usr/local/lib/python3.10/dist-packages (from pyasn1-modules>=0.2.1->google-auth<3,>=1.6.3->tensorboard<2.16,>=2.15->tensorflow==2.15) (0.6.1)\n",
            "Requirement already satisfied: oauthlib>=3.0.0 in /usr/local/lib/python3.10/dist-packages (from requests-oauthlib>=0.7.0->google-auth-oauthlib<2,>=0.5->tensorboard<2.16,>=2.15->tensorflow==2.15) (3.2.2)\n"
          ]
        }
      ]
    },
    {
      "cell_type": "code",
      "execution_count": 2,
      "metadata": {
        "id": "QvhfMUkYFZO6"
      },
      "outputs": [],
      "source": [
        "import tensorflow as tf\n",
        "import matplotlib.pyplot as plt\n",
        "import numpy as np"
      ]
    },
    {
      "cell_type": "code",
      "source": [
        "import numpy as np\n",
        "import matplotlib.pyplot as plt\n",
        "import tensorflow as tf\n",
        "from tensorflow import keras\n",
        "import os\n",
        "import pathlib\n",
        "import PIL\n",
        "from tensorflow.keras import layers, models\n",
        "from tensorflow.keras.callbacks import ModelCheckpoint, LearningRateScheduler\n",
        "from sklearn.metrics import classification_report, confusion_matrix"
      ],
      "metadata": {
        "id": "3s77yZbsKsTQ"
      },
      "execution_count": 3,
      "outputs": []
    },
    {
      "cell_type": "code",
      "source": [
        "# Import and mount Google Drive.\n",
        "from google.colab import drive\n",
        "\n",
        "drive.mount(\"/content/drive\")"
      ],
      "metadata": {
        "colab": {
          "base_uri": "https://localhost:8080/"
        },
        "id": "d8IvxziZFwo5",
        "outputId": "a968e6fb-c089-4bf8-9a88-0f461fcc76b9"
      },
      "execution_count": 4,
      "outputs": [
        {
          "output_type": "stream",
          "name": "stdout",
          "text": [
            "Drive already mounted at /content/drive; to attempt to forcibly remount, call drive.mount(\"/content/drive\", force_remount=True).\n"
          ]
        }
      ]
    },
    {
      "cell_type": "code",
      "source": [
        "# # Unzip the dataset file and store it in a folder called images.\n",
        "# !unzip \"/content/drive/MyDrive/Project_BC/archive.zip\" -d \"/content/drive/MyDrive/Project_BC/cnn/\""
      ],
      "metadata": {
        "id": "qWKY1M2VJwRJ"
      },
      "execution_count": 5,
      "outputs": []
    },
    {
      "cell_type": "code",
      "source": [
        "label_dict = {'benign' : 0,\n",
        "              'malignant' : 1}\n",
        "\n",
        "def parse_image(filename):\n",
        "  parts = tf.strings.split(filename, os.sep)\n",
        "  label = parts[-2]\n",
        "  label = tf.strings.to_number(label)\n",
        "\n",
        "  image = tf.io.read_file(filename)\n",
        "  image = tf.io.decode_jpeg(image)\n",
        "  return image, label\n",
        "\n",
        "img_loc = \"/content/drive/MyDrive/Project_BC/cnn/\"\n",
        "\n",
        "train_list_ds = tf.data.Dataset.list_files(img_loc + \"train/*/*\")\n",
        "valid_list_ds = tf.data.Dataset.list_files(img_loc + \"valid/*/*\")"
      ],
      "metadata": {
        "id": "7N3V4wJTKB5y"
      },
      "execution_count": 6,
      "outputs": []
    },
    {
      "cell_type": "code",
      "source": [
        "def img_process(image, label):\n",
        "  image = tf.cast(image, tf.float32)\n",
        "  image = tf.image.resize(image, size=[320,320])\n",
        "  image = image / 255.0\n",
        "  return image, label"
      ],
      "metadata": {
        "id": "lk7cMbDWMwPz"
      },
      "execution_count": 7,
      "outputs": []
    },
    {
      "cell_type": "code",
      "source": [
        "train_ds = train_list_ds\n",
        "val_ds = valid_list_ds\n",
        "\n",
        "# parsing and processing the training images\n",
        "train_ds = (\n",
        "    train_ds\n",
        "    .shuffle(1000)\n",
        "    .map(parse_image)\n",
        "    .map(img_process)\n",
        "    .prefetch(tf.data.AUTOTUNE)\n",
        "    .batch(128)\n",
        "    .cache()\n",
        ")\n",
        "\n",
        "# parsing and processing the validation images\n",
        "val_ds = (\n",
        "    val_ds\n",
        "    .map(parse_image)\n",
        "    .map(img_process)\n",
        "    .prefetch(tf.data.AUTOTUNE)\n",
        "    .batch(128)\n",
        "    .cache()\n",
        ")"
      ],
      "metadata": {
        "id": "VzdLYcYkM8vy"
      },
      "execution_count": 8,
      "outputs": []
    },
    {
      "cell_type": "code",
      "source": [
        "# input layer\n",
        "input_layer = layers.Input(shape=(320, 320, 3), name='Input')\n",
        "\n",
        "# convolutional layers\n",
        "conv0 = layers.Conv2D(16, (5, 5), activation='relu', padding=\"same\",\n",
        "                      strides=(2, 2), name='Conv0')(input_layer)\n",
        "conv1 = layers.Conv2D(32, (3, 3), activation='relu', padding=\"same\",\n",
        "                      strides=(1, 1), name='Conv1')(conv0)\n",
        "conv2 = layers.Conv2D(32, (3, 3), activation='relu', padding=\"same\",\n",
        "                      strides=(1, 1), name='Conv2')(conv1)\n",
        "pool1 = layers.MaxPooling2D((2, 2), name='Pool1')(conv2)\n",
        "\n",
        "conv3 = layers.Conv2D(64, (3, 3), activation='relu', padding=\"same\",\n",
        "                      strides=(1, 1), name='Conv3')(pool1)\n",
        "conv4 = layers.Conv2D(64, (3, 3), activation='relu', padding=\"same\",\n",
        "                      strides=(1, 1), name='Conv4')(conv3)\n",
        "pool2 = layers.MaxPooling2D((2, 2), name='Pool2')(conv4)\n",
        "\n",
        "conv5 = layers.Conv2D(128, (3, 3), activation='relu', padding=\"same\",\n",
        "                      strides=(1, 1), name='Conv5')(pool2)\n",
        "conv6 = layers.Conv2D(128, (3, 3), activation='relu', padding=\"same\",\n",
        "                      strides=(1, 1), name='Conv6')(conv5)\n",
        "global_pool = layers.GlobalAveragePooling2D(name='GlobalPool')(conv6)\n",
        "\n",
        "# fully connected layers\n",
        "fc1 = layers.Dense(512, activation='relu', name='FC1')(global_pool)\n",
        "\n",
        "# output layer\n",
        "output_layer = layers.Dense(1, activation='sigmoid', name='Output')(fc1)\n",
        "\n",
        "# create the model\n",
        "model = models.Model(inputs=input_layer, outputs=output_layer)"
      ],
      "metadata": {
        "id": "tvJKfTwnND_h"
      },
      "execution_count": 9,
      "outputs": []
    },
    {
      "cell_type": "code",
      "source": [
        "model.summary()"
      ],
      "metadata": {
        "colab": {
          "base_uri": "https://localhost:8080/"
        },
        "id": "-FCY9BVfNQrw",
        "outputId": "56ddbe12-fe4c-417c-bdc4-8af7e944e789"
      },
      "execution_count": 10,
      "outputs": [
        {
          "output_type": "stream",
          "name": "stdout",
          "text": [
            "Model: \"model\"\n",
            "_________________________________________________________________\n",
            " Layer (type)                Output Shape              Param #   \n",
            "=================================================================\n",
            " Input (InputLayer)          [(None, 320, 320, 3)]     0         \n",
            "                                                                 \n",
            " Conv0 (Conv2D)              (None, 160, 160, 16)      1216      \n",
            "                                                                 \n",
            " Conv1 (Conv2D)              (None, 160, 160, 32)      4640      \n",
            "                                                                 \n",
            " Conv2 (Conv2D)              (None, 160, 160, 32)      9248      \n",
            "                                                                 \n",
            " Pool1 (MaxPooling2D)        (None, 80, 80, 32)        0         \n",
            "                                                                 \n",
            " Conv3 (Conv2D)              (None, 80, 80, 64)        18496     \n",
            "                                                                 \n",
            " Conv4 (Conv2D)              (None, 80, 80, 64)        36928     \n",
            "                                                                 \n",
            " Pool2 (MaxPooling2D)        (None, 40, 40, 64)        0         \n",
            "                                                                 \n",
            " Conv5 (Conv2D)              (None, 40, 40, 128)       73856     \n",
            "                                                                 \n",
            " Conv6 (Conv2D)              (None, 40, 40, 128)       147584    \n",
            "                                                                 \n",
            " GlobalPool (GlobalAverageP  (None, 128)               0         \n",
            " ooling2D)                                                       \n",
            "                                                                 \n",
            " FC1 (Dense)                 (None, 512)               66048     \n",
            "                                                                 \n",
            " Output (Dense)              (None, 1)                 513       \n",
            "                                                                 \n",
            "=================================================================\n",
            "Total params: 358529 (1.37 MB)\n",
            "Trainable params: 358529 (1.37 MB)\n",
            "Non-trainable params: 0 (0.00 Byte)\n",
            "_________________________________________________________________\n"
          ]
        }
      ]
    },
    {
      "cell_type": "code",
      "source": [
        "model.compile(optimizer=tf.keras.optimizers.Adam(learning_rate=5e-5),\n",
        "              loss='binary_crossentropy',\n",
        "              metrics=['accuracy'])"
      ],
      "metadata": {
        "id": "Yu3kSKjPNUm_"
      },
      "execution_count": 11,
      "outputs": []
    },
    {
      "cell_type": "code",
      "source": [
        "checkpoint_filepath = '/content/checkpoint/'\n",
        "\n",
        "checkpoint_callback = ModelCheckpoint(\n",
        "    filepath=checkpoint_filepath,\n",
        "    save_weights_only=True,\n",
        "    monitor='val_accuracy',\n",
        "    mode='max',\n",
        "    save_best_only=True\n",
        ")"
      ],
      "metadata": {
        "id": "N9bOxiZFNdb4"
      },
      "execution_count": 12,
      "outputs": []
    },
    {
      "cell_type": "code",
      "source": [
        "def scheduler(epoch, lr):\n",
        "    if epoch < 10:\n",
        "        return lr\n",
        "    else:\n",
        "        return lr * tf.math.exp(-0.01)\n",
        "\n",
        "lr_callback = LearningRateScheduler(scheduler)"
      ],
      "metadata": {
        "id": "g41Uty3VOAB4"
      },
      "execution_count": 13,
      "outputs": []
    },
    {
      "cell_type": "code",
      "source": [
        "epoch_num=10\n",
        "\n",
        "history = model.fit(\n",
        "    train_ds,\n",
        "    validation_data=val_ds,\n",
        "    epochs=epoch_num,\n",
        "    callbacks=[checkpoint_callback, lr_callback]\n",
        ")"
      ],
      "metadata": {
        "colab": {
          "base_uri": "https://localhost:8080/"
        },
        "id": "2Sh0pxLhPgQJ",
        "outputId": "f1651f79-ef48-4574-d0c0-91fa1a3228f1"
      },
      "execution_count": 14,
      "outputs": [
        {
          "output_type": "stream",
          "name": "stdout",
          "text": [
            "Epoch 1/10\n",
            "19/19 [==============================] - 58s 2s/step - loss: 0.6807 - accuracy: 0.6615 - val_loss: 0.6651 - val_accuracy: 0.6637 - lr: 5.0000e-05\n",
            "Epoch 2/10\n",
            "19/19 [==============================] - 7s 343ms/step - loss: 0.6533 - accuracy: 0.6615 - val_loss: 0.6552 - val_accuracy: 0.6637 - lr: 5.0000e-05\n",
            "Epoch 3/10\n",
            "19/19 [==============================] - 6s 341ms/step - loss: 0.6474 - accuracy: 0.6615 - val_loss: 0.6500 - val_accuracy: 0.6637 - lr: 5.0000e-05\n",
            "Epoch 4/10\n",
            "19/19 [==============================] - 7s 352ms/step - loss: 0.6444 - accuracy: 0.6615 - val_loss: 0.6476 - val_accuracy: 0.6637 - lr: 5.0000e-05\n",
            "Epoch 5/10\n",
            "19/19 [==============================] - 7s 347ms/step - loss: 0.6425 - accuracy: 0.6615 - val_loss: 0.6447 - val_accuracy: 0.6637 - lr: 5.0000e-05\n",
            "Epoch 6/10\n",
            "19/19 [==============================] - 7s 350ms/step - loss: 0.6406 - accuracy: 0.6615 - val_loss: 0.6425 - val_accuracy: 0.6637 - lr: 5.0000e-05\n",
            "Epoch 7/10\n",
            "19/19 [==============================] - 7s 346ms/step - loss: 0.6395 - accuracy: 0.6615 - val_loss: 0.6410 - val_accuracy: 0.6637 - lr: 5.0000e-05\n",
            "Epoch 8/10\n",
            "19/19 [==============================] - 7s 347ms/step - loss: 0.6387 - accuracy: 0.6615 - val_loss: 0.6401 - val_accuracy: 0.6637 - lr: 5.0000e-05\n",
            "Epoch 9/10\n",
            "19/19 [==============================] - 6s 341ms/step - loss: 0.6382 - accuracy: 0.6615 - val_loss: 0.6394 - val_accuracy: 0.6637 - lr: 5.0000e-05\n",
            "Epoch 10/10\n",
            "19/19 [==============================] - 6s 338ms/step - loss: 0.6378 - accuracy: 0.6615 - val_loss: 0.6387 - val_accuracy: 0.6637 - lr: 5.0000e-05\n"
          ]
        }
      ]
    },
    {
      "cell_type": "code",
      "source": [
        "plt.figure()\n",
        "plt.plot(history.history['loss'], label='Training')\n",
        "plt.plot(history.history['val_loss'], label='Validation')\n",
        "plt.legend(loc=0)\n",
        "plt.title('Model Loss')\n",
        "\n",
        "plt.figure()\n",
        "plt.plot(history.history['accuracy'], label='Training')\n",
        "plt.plot(history.history['val_accuracy'], label='Validation')\n",
        "plt.legend(loc=0)\n",
        "plt.title('Model Accuracy')\n",
        "\n",
        "plt.show()"
      ],
      "metadata": {
        "id": "PzDsdmx8Pygu",
        "colab": {
          "base_uri": "https://localhost:8080/",
          "height": 887
        },
        "outputId": "59fda3cb-e9b3-4e17-a82a-6379eb483522"
      },
      "execution_count": 15,
      "outputs": [
        {
          "output_type": "display_data",
          "data": {
            "text/plain": [
              "<Figure size 640x480 with 1 Axes>"
            ],
            "image/png": "[encoded data removed]"
          },
          "metadata": {}
        },
        {
          "output_type": "display_data",
          "data": {
            "text/plain": [
              "<Figure size 640x480 with 1 Axes>"
            ],
            "image/png": "[encoded data removed]"
          },
          "metadata": {}
        }
      ]
    }
  ]
}
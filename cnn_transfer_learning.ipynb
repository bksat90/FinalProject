{
  "nbformat": 4,
  "nbformat_minor": 0,
  "metadata": {
    "colab": {
      "provenance": [],
      "gpuType": "T4",
      "authorship_tag": "ABX9TyO2TqtH/P3eVMfkiHpU1TPt",
      "include_colab_link": true
    },
    "kernelspec": {
      "name": "python3",
      "display_name": "Python 3"
    },
    "language_info": {
      "name": "python"
    },
    "accelerator": "GPU"
  },
  "cells": [
    {
      "cell_type": "markdown",
      "metadata": {
        "id": "view-in-github",
        "colab_type": "text"
      },
      "source": [
        "<a href=\"https://colab.research.google.com/github/bksat90/FinalProject/blob/main/cnn_transfer_learning.ipynb\" target=\"_parent\"><img src=\"https://colab.research.google.com/assets/colab-badge.svg\" alt=\"Open In Colab\"/></a>"
      ]
    },
    {
      "cell_type": "code",
      "source": [
        "!pip install tensorflow==2.15"
      ],
      "metadata": {
        "colab": {
          "base_uri": "https://localhost:8080/"
        },
        "id": "quDNiJP9MiI-",
        "outputId": "b727830a-e3a5-407d-f6d5-d2a12782ce1c"
      },
      "execution_count": 1,
      "outputs": [
        {
          "output_type": "stream",
          "name": "stdout",
          "text": [
            "Collecting tensorflow==2.15\n",
            "  Downloading tensorflow-2.15.0-cp310-cp310-manylinux_2_17_x86_64.manylinux2014_x86_64.whl.metadata (4.4 kB)\n",
            "Requirement already satisfied: absl-py>=1.0.0 in /usr/local/lib/python3.10/dist-packages (from tensorflow==2.15) (1.4.0)\n",
            "Requirement already satisfied: astunparse>=1.6.0 in /usr/local/lib/python3.10/dist-packages (from tensorflow==2.15) (1.6.3)\n",
            "Requirement already satisfied: flatbuffers>=23.5.26 in /usr/local/lib/python3.10/dist-packages (from tensorflow==2.15) (24.3.25)\n",
            "Requirement already satisfied: gast!=0.5.0,!=0.5.1,!=0.5.2,>=0.2.1 in /usr/local/lib/python3.10/dist-packages (from tensorflow==2.15) (0.6.0)\n",
            "Requirement already satisfied: google-pasta>=0.1.1 in /usr/local/lib/python3.10/dist-packages (from tensorflow==2.15) (0.2.0)\n",
            "Requirement already satisfied: h5py>=2.9.0 in /usr/local/lib/python3.10/dist-packages (from tensorflow==2.15) (3.12.1)\n",
            "Requirement already satisfied: libclang>=13.0.0 in /usr/local/lib/python3.10/dist-packages (from tensorflow==2.15) (18.1.1)\n",
            "Collecting ml-dtypes~=0.2.0 (from tensorflow==2.15)\n",
            "  Downloading ml_dtypes-0.2.0-cp310-cp310-manylinux_2_17_x86_64.manylinux2014_x86_64.whl.metadata (20 kB)\n",
            "Requirement already satisfied: numpy<2.0.0,>=1.23.5 in /usr/local/lib/python3.10/dist-packages (from tensorflow==2.15) (1.26.4)\n",
            "Requirement already satisfied: opt-einsum>=2.3.2 in /usr/local/lib/python3.10/dist-packages (from tensorflow==2.15) (3.4.0)\n",
            "Requirement already satisfied: packaging in /usr/local/lib/python3.10/dist-packages (from tensorflow==2.15) (24.2)\n",
            "Requirement already satisfied: protobuf!=4.21.0,!=4.21.1,!=4.21.2,!=4.21.3,!=4.21.4,!=4.21.5,<5.0.0dev,>=3.20.3 in /usr/local/lib/python3.10/dist-packages (from tensorflow==2.15) (4.25.5)\n",
            "Requirement already satisfied: setuptools in /usr/local/lib/python3.10/dist-packages (from tensorflow==2.15) (75.1.0)\n",
            "Requirement already satisfied: six>=1.12.0 in /usr/local/lib/python3.10/dist-packages (from tensorflow==2.15) (1.16.0)\n",
            "Requirement already satisfied: termcolor>=1.1.0 in /usr/local/lib/python3.10/dist-packages (from tensorflow==2.15) (2.5.0)\n",
            "Requirement already satisfied: typing-extensions>=3.6.6 in /usr/local/lib/python3.10/dist-packages (from tensorflow==2.15) (4.12.2)\n",
            "Collecting wrapt<1.15,>=1.11.0 (from tensorflow==2.15)\n",
            "  Downloading wrapt-1.14.1-cp310-cp310-manylinux_2_5_x86_64.manylinux1_x86_64.manylinux_2_17_x86_64.manylinux2014_x86_64.whl.metadata (6.7 kB)\n",
            "Requirement already satisfied: tensorflow-io-gcs-filesystem>=0.23.1 in /usr/local/lib/python3.10/dist-packages (from tensorflow==2.15) (0.37.1)\n",
            "Requirement already satisfied: grpcio<2.0,>=1.24.3 in /usr/local/lib/python3.10/dist-packages (from tensorflow==2.15) (1.68.0)\n",
            "Collecting tensorboard<2.16,>=2.15 (from tensorflow==2.15)\n",
            "  Downloading tensorboard-2.15.2-py3-none-any.whl.metadata (1.7 kB)\n",
            "Collecting tensorflow-estimator<2.16,>=2.15.0 (from tensorflow==2.15)\n",
            "  Downloading tensorflow_estimator-2.15.0-py2.py3-none-any.whl.metadata (1.3 kB)\n",
            "Collecting keras<2.16,>=2.15.0 (from tensorflow==2.15)\n",
            "  Downloading keras-2.15.0-py3-none-any.whl.metadata (2.4 kB)\n",
            "Requirement already satisfied: wheel<1.0,>=0.23.0 in /usr/local/lib/python3.10/dist-packages (from astunparse>=1.6.0->tensorflow==2.15) (0.45.0)\n",
            "Requirement already satisfied: google-auth<3,>=1.6.3 in /usr/local/lib/python3.10/dist-packages (from tensorboard<2.16,>=2.15->tensorflow==2.15) (2.27.0)\n",
            "Requirement already satisfied: google-auth-oauthlib<2,>=0.5 in /usr/local/lib/python3.10/dist-packages (from tensorboard<2.16,>=2.15->tensorflow==2.15) (1.2.1)\n",
            "Requirement already satisfied: markdown>=2.6.8 in /usr/local/lib/python3.10/dist-packages (from tensorboard<2.16,>=2.15->tensorflow==2.15) (3.7)\n",
            "Requirement already satisfied: requests<3,>=2.21.0 in /usr/local/lib/python3.10/dist-packages (from tensorboard<2.16,>=2.15->tensorflow==2.15) (2.32.3)\n",
            "Requirement already satisfied: tensorboard-data-server<0.8.0,>=0.7.0 in /usr/local/lib/python3.10/dist-packages (from tensorboard<2.16,>=2.15->tensorflow==2.15) (0.7.2)\n",
            "Requirement already satisfied: werkzeug>=1.0.1 in /usr/local/lib/python3.10/dist-packages (from tensorboard<2.16,>=2.15->tensorflow==2.15) (3.1.3)\n",
            "Requirement already satisfied: cachetools<6.0,>=2.0.0 in /usr/local/lib/python3.10/dist-packages (from google-auth<3,>=1.6.3->tensorboard<2.16,>=2.15->tensorflow==2.15) (5.5.0)\n",
            "Requirement already satisfied: pyasn1-modules>=0.2.1 in /usr/local/lib/python3.10/dist-packages (from google-auth<3,>=1.6.3->tensorboard<2.16,>=2.15->tensorflow==2.15) (0.4.1)\n",
            "Requirement already satisfied: rsa<5,>=3.1.4 in /usr/local/lib/python3.10/dist-packages (from google-auth<3,>=1.6.3->tensorboard<2.16,>=2.15->tensorflow==2.15) (4.9)\n",
            "Requirement already satisfied: requests-oauthlib>=0.7.0 in /usr/local/lib/python3.10/dist-packages (from google-auth-oauthlib<2,>=0.5->tensorboard<2.16,>=2.15->tensorflow==2.15) (1.3.1)\n",
            "Requirement already satisfied: charset-normalizer<4,>=2 in /usr/local/lib/python3.10/dist-packages (from requests<3,>=2.21.0->tensorboard<2.16,>=2.15->tensorflow==2.15) (3.4.0)\n",
            "Requirement already satisfied: idna<4,>=2.5 in /usr/local/lib/python3.10/dist-packages (from requests<3,>=2.21.0->tensorboard<2.16,>=2.15->tensorflow==2.15) (3.10)\n",
            "Requirement already satisfied: urllib3<3,>=1.21.1 in /usr/local/lib/python3.10/dist-packages (from requests<3,>=2.21.0->tensorboard<2.16,>=2.15->tensorflow==2.15) (2.2.3)\n",
            "Requirement already satisfied: certifi>=2017.4.17 in /usr/local/lib/python3.10/dist-packages (from requests<3,>=2.21.0->tensorboard<2.16,>=2.15->tensorflow==2.15) (2024.8.30)\n",
            "Requirement already satisfied: MarkupSafe>=2.1.1 in /usr/local/lib/python3.10/dist-packages (from werkzeug>=1.0.1->tensorboard<2.16,>=2.15->tensorflow==2.15) (3.0.2)\n",
            "Requirement already satisfied: pyasn1<0.7.0,>=0.4.6 in /usr/local/lib/python3.10/dist-packages (from pyasn1-modules>=0.2.1->google-auth<3,>=1.6.3->tensorboard<2.16,>=2.15->tensorflow==2.15) (0.6.1)\n",
            "Requirement already satisfied: oauthlib>=3.0.0 in /usr/local/lib/python3.10/dist-packages (from requests-oauthlib>=0.7.0->google-auth-oauthlib<2,>=0.5->tensorboard<2.16,>=2.15->tensorflow==2.15) (3.2.2)\n",
            "Downloading tensorflow-2.15.0-cp310-cp310-manylinux_2_17_x86_64.manylinux2014_x86_64.whl (475.2 MB)\n",
            "\u001b[2K   \u001b[90m━━━━━━━━━━━━━━━━━━━━━━━━━━━━━━━━━━━━━━━━\u001b[0m \u001b[32m475.2/475.2 MB\u001b[0m \u001b[31m2.9 MB/s\u001b[0m eta \u001b[36m0:00:00\u001b[0m\n",
            "\u001b[?25hDownloading keras-2.15.0-py3-none-any.whl (1.7 MB)\n",
            "\u001b[2K   \u001b[90m━━━━━━━━━━━━━━━━━━━━━━━━━━━━━━━━━━━━━━━━\u001b[0m \u001b[32m1.7/1.7 MB\u001b[0m \u001b[31m26.5 MB/s\u001b[0m eta \u001b[36m0:00:00\u001b[0m\n",
            "\u001b[?25hDownloading ml_dtypes-0.2.0-cp310-cp310-manylinux_2_17_x86_64.manylinux2014_x86_64.whl (1.0 MB)\n",
            "\u001b[2K   \u001b[90m━━━━━━━━━━━━━━━━━━━━━━━━━━━━━━━━━━━━━━━━\u001b[0m \u001b[32m1.0/1.0 MB\u001b[0m \u001b[31m25.5 MB/s\u001b[0m eta \u001b[36m0:00:00\u001b[0m\n",
            "\u001b[?25hDownloading tensorboard-2.15.2-py3-none-any.whl (5.5 MB)\n",
            "\u001b[2K   \u001b[90m━━━━━━━━━━━━━━━━━━━━━━━━━━━━━━━━━━━━━━━━\u001b[0m \u001b[32m5.5/5.5 MB\u001b[0m \u001b[31m29.7 MB/s\u001b[0m eta \u001b[36m0:00:00\u001b[0m\n",
            "\u001b[?25hDownloading tensorflow_estimator-2.15.0-py2.py3-none-any.whl (441 kB)\n",
            "\u001b[2K   \u001b[90m━━━━━━━━━━━━━━━━━━━━━━━━━━━━━━━━━━━━━━━━\u001b[0m \u001b[32m442.0/442.0 kB\u001b[0m \u001b[31m14.8 MB/s\u001b[0m eta \u001b[36m0:00:00\u001b[0m\n",
            "\u001b[?25hDownloading wrapt-1.14.1-cp310-cp310-manylinux_2_5_x86_64.manylinux1_x86_64.manylinux_2_17_x86_64.manylinux2014_x86_64.whl (77 kB)\n",
            "\u001b[2K   \u001b[90m━━━━━━━━━━━━━━━━━━━━━━━━━━━━━━━━━━━━━━━━\u001b[0m \u001b[32m77.9/77.9 kB\u001b[0m \u001b[31m6.7 MB/s\u001b[0m eta \u001b[36m0:00:00\u001b[0m\n",
            "\u001b[?25hInstalling collected packages: wrapt, tensorflow-estimator, ml-dtypes, keras, tensorboard, tensorflow\n",
            "  Attempting uninstall: wrapt\n",
            "    Found existing installation: wrapt 1.16.0\n",
            "    Uninstalling wrapt-1.16.0:\n",
            "      Successfully uninstalled wrapt-1.16.0\n",
            "  Attempting uninstall: ml-dtypes\n",
            "    Found existing installation: ml-dtypes 0.4.1\n",
            "    Uninstalling ml-dtypes-0.4.1:\n",
            "      Successfully uninstalled ml-dtypes-0.4.1\n",
            "  Attempting uninstall: keras\n",
            "    Found existing installation: keras 3.5.0\n",
            "    Uninstalling keras-3.5.0:\n",
            "      Successfully uninstalled keras-3.5.0\n",
            "  Attempting uninstall: tensorboard\n",
            "    Found existing installation: tensorboard 2.17.1\n",
            "    Uninstalling tensorboard-2.17.1:\n",
            "      Successfully uninstalled tensorboard-2.17.1\n",
            "  Attempting uninstall: tensorflow\n",
            "    Found existing installation: tensorflow 2.17.1\n",
            "    Uninstalling tensorflow-2.17.1:\n",
            "      Successfully uninstalled tensorflow-2.17.1\n",
            "\u001b[31mERROR: pip's dependency resolver does not currently take into account all the packages that are installed. This behaviour is the source of the following dependency conflicts.\n",
            "tensorstore 0.1.68 requires ml-dtypes>=0.3.1, but you have ml-dtypes 0.2.0 which is incompatible.\n",
            "tf-keras 2.17.0 requires tensorflow<2.18,>=2.17, but you have tensorflow 2.15.0 which is incompatible.\u001b[0m\u001b[31m\n",
            "\u001b[0mSuccessfully installed keras-2.15.0 ml-dtypes-0.2.0 tensorboard-2.15.2 tensorflow-2.15.0 tensorflow-estimator-2.15.0 wrapt-1.14.1\n"
          ]
        }
      ]
    },
    {
      "cell_type": "code",
      "execution_count": 2,
      "metadata": {
        "id": "QvhfMUkYFZO6"
      },
      "outputs": [],
      "source": [
        "import tensorflow as tf\n",
        "import matplotlib.pyplot as plt\n",
        "import numpy as np"
      ]
    },
    {
      "cell_type": "code",
      "source": [
        "import numpy as np\n",
        "import matplotlib.pyplot as plt\n",
        "import tensorflow as tf\n",
        "from tensorflow import keras\n",
        "import os\n",
        "import pathlib\n",
        "import PIL\n",
        "from tensorflow.keras import layers, models\n",
        "from tensorflow.keras.callbacks import ModelCheckpoint, LearningRateScheduler\n",
        "from sklearn.metrics import classification_report, confusion_matrix"
      ],
      "metadata": {
        "id": "3s77yZbsKsTQ"
      },
      "execution_count": 3,
      "outputs": []
    },
    {
      "cell_type": "code",
      "source": [
        "# Import and mount Google Drive.\n",
        "from google.colab import drive\n",
        "\n",
        "drive.mount(\"/content/drive\")"
      ],
      "metadata": {
        "colab": {
          "base_uri": "https://localhost:8080/"
        },
        "id": "d8IvxziZFwo5",
        "outputId": "44cfa2f6-4df7-4b6f-fa98-03e83f348143"
      },
      "execution_count": 4,
      "outputs": [
        {
          "output_type": "stream",
          "name": "stdout",
          "text": [
            "Mounted at /content/drive\n"
          ]
        }
      ]
    },
    {
      "cell_type": "code",
      "source": [
        "# # Unzip the dataset file and store it in a folder called images.\n",
        "# !unzip \"/content/drive/MyDrive/Project_BC/archive.zip\" -d \"/content/drive/MyDrive/Project_BC/cnn/\""
      ],
      "metadata": {
        "id": "qWKY1M2VJwRJ"
      },
      "execution_count": 5,
      "outputs": []
    },
    {
      "cell_type": "code",
      "source": [
        "label_dict = {'benign' : 0,\n",
        "              'malignant' : 1}\n",
        "\n",
        "def parse_image(filename):\n",
        "  parts = tf.strings.split(filename, os.sep)\n",
        "  label = parts[-2]\n",
        "  label = tf.strings.to_number(label)\n",
        "\n",
        "  image = tf.io.read_file(filename)\n",
        "  image = tf.io.decode_jpeg(image)\n",
        "  return image, label\n",
        "\n",
        "img_loc = \"/content/drive/MyDrive/Project_BC/cnn/\"\n",
        "\n",
        "train_list_ds = tf.data.Dataset.list_files(img_loc + \"train/*/*\")\n",
        "valid_list_ds = tf.data.Dataset.list_files(img_loc + \"valid/*/*\")"
      ],
      "metadata": {
        "id": "7N3V4wJTKB5y"
      },
      "execution_count": 6,
      "outputs": []
    },
    {
      "cell_type": "code",
      "source": [
        "def img_process(image, label):\n",
        "  image = tf.cast(image, tf.float32)\n",
        "  image = tf.image.resize(image, size=[320,320])\n",
        "  image = image / 255.0\n",
        "  return image, label"
      ],
      "metadata": {
        "id": "lk7cMbDWMwPz"
      },
      "execution_count": 7,
      "outputs": []
    },
    {
      "cell_type": "code",
      "source": [
        "train_ds = train_list_ds\n",
        "val_ds = valid_list_ds\n",
        "\n",
        "# parsing and processing the training images\n",
        "train_ds = (\n",
        "    train_ds\n",
        "    .shuffle(1000)\n",
        "    .map(parse_image)\n",
        "    .map(img_process)\n",
        "    .prefetch(tf.data.AUTOTUNE)\n",
        "    .batch(32)\n",
        "    .cache()\n",
        ")\n",
        "\n",
        "# parsing and processing the validation images\n",
        "val_ds = (\n",
        "    val_ds\n",
        "    .map(parse_image)\n",
        "    .map(img_process)\n",
        "    .prefetch(tf.data.AUTOTUNE)\n",
        "    .batch(32)\n",
        "    .cache()\n",
        ")"
      ],
      "metadata": {
        "id": "VzdLYcYkM8vy"
      },
      "execution_count": 8,
      "outputs": []
    },
    {
      "cell_type": "code",
      "source": [
        "base_model = tf.keras.applications.vgg19.VGG19(include_top=False,\n",
        "                                               weights='imagenet',\n",
        "                                               input_shape=(320, 320, 3),\n",
        "                                               pooling='max')\n",
        "\n",
        "model = tf.keras.models.Sequential()\n",
        "model.add(base_model)\n",
        "model.add(tf.keras.layers.Dense(256, activation='relu'))\n",
        "model.add(tf.keras.layers.Dense(1, activation='sigmoid'))\n",
        "base_model.trainable=False"
      ],
      "metadata": {
        "id": "tvJKfTwnND_h",
        "colab": {
          "base_uri": "https://localhost:8080/"
        },
        "outputId": "59c4e08a-384d-4f25-ea90-cb5055cd5046"
      },
      "execution_count": 9,
      "outputs": [
        {
          "output_type": "stream",
          "name": "stdout",
          "text": [
            "Downloading data from https://storage.googleapis.com/tensorflow/keras-applications/vgg19/vgg19_weights_tf_dim_ordering_tf_kernels_notop.h5\n",
            "80134624/80134624 [==============================] - 1s 0us/step\n"
          ]
        }
      ]
    },
    {
      "cell_type": "code",
      "source": [
        "model.summary()"
      ],
      "metadata": {
        "colab": {
          "base_uri": "https://localhost:8080/"
        },
        "id": "-FCY9BVfNQrw",
        "outputId": "a299956d-5898-4139-be93-5d10543ab18d"
      },
      "execution_count": 10,
      "outputs": [
        {
          "output_type": "stream",
          "name": "stdout",
          "text": [
            "Model: \"sequential\"\n",
            "_________________________________________________________________\n",
            " Layer (type)                Output Shape              Param #   \n",
            "=================================================================\n",
            " vgg19 (Functional)          (None, 512)               20024384  \n",
            "                                                                 \n",
            " dense (Dense)               (None, 256)               131328    \n",
            "                                                                 \n",
            " dense_1 (Dense)             (None, 1)                 257       \n",
            "                                                                 \n",
            "=================================================================\n",
            "Total params: 20155969 (76.89 MB)\n",
            "Trainable params: 131585 (514.00 KB)\n",
            "Non-trainable params: 20024384 (76.39 MB)\n",
            "_________________________________________________________________\n"
          ]
        }
      ]
    },
    {
      "cell_type": "code",
      "source": [
        "model.compile(optimizer=tf.keras.optimizers.Adam(learning_rate=5e-5),\n",
        "              loss='binary_crossentropy',\n",
        "              metrics=['accuracy'])"
      ],
      "metadata": {
        "id": "Yu3kSKjPNUm_"
      },
      "execution_count": 11,
      "outputs": []
    },
    {
      "cell_type": "code",
      "source": [
        "checkpoint_filepath = '/content/checkpoint/'\n",
        "\n",
        "checkpoint_callback = ModelCheckpoint(\n",
        "    filepath=checkpoint_filepath,\n",
        "    save_weights_only=True,\n",
        "    monitor='val_accuracy',\n",
        "    mode='max',\n",
        "    save_best_only=True\n",
        ")"
      ],
      "metadata": {
        "id": "N9bOxiZFNdb4"
      },
      "execution_count": 12,
      "outputs": []
    },
    {
      "cell_type": "code",
      "source": [
        "def scheduler(epoch, lr):\n",
        "    if epoch < 10:\n",
        "        return lr\n",
        "    else:\n",
        "        return lr * tf.math.exp(-0.01)\n",
        "\n",
        "lr_callback = LearningRateScheduler(scheduler)"
      ],
      "metadata": {
        "id": "g41Uty3VOAB4"
      },
      "execution_count": 13,
      "outputs": []
    },
    {
      "cell_type": "code",
      "source": [
        "epoch_num = 100\n",
        "\n",
        "history = model.fit(\n",
        "    train_ds,\n",
        "    validation_data=val_ds,\n",
        "    epochs=epoch_num,\n",
        "    callbacks=[checkpoint_callback, lr_callback]\n",
        ")"
      ],
      "metadata": {
        "colab": {
          "base_uri": "https://localhost:8080/"
        },
        "id": "2Sh0pxLhPgQJ",
        "outputId": "c061af31-5837-44cf-a76a-b2589bfa5185"
      },
      "execution_count": 14,
      "outputs": [
        {
          "output_type": "stream",
          "name": "stdout",
          "text": [
            "Epoch 1/100\n",
            "38/38 [==============================] - 519s 13s/step - loss: 0.6426 - accuracy: 0.6547 - val_loss: 0.6369 - val_accuracy: 0.6593 - lr: 5.0000e-05\n",
            "Epoch 2/100\n",
            "38/38 [==============================] - 26s 683ms/step - loss: 0.6348 - accuracy: 0.6577 - val_loss: 0.6339 - val_accuracy: 0.6563 - lr: 5.0000e-05\n",
            "Epoch 3/100\n",
            "38/38 [==============================] - 26s 696ms/step - loss: 0.6302 - accuracy: 0.6623 - val_loss: 0.6320 - val_accuracy: 0.6548 - lr: 5.0000e-05\n",
            "Epoch 4/100\n",
            "38/38 [==============================] - 27s 706ms/step - loss: 0.6264 - accuracy: 0.6644 - val_loss: 0.6304 - val_accuracy: 0.6563 - lr: 5.0000e-05\n",
            "Epoch 5/100\n",
            "38/38 [==============================] - 27s 717ms/step - loss: 0.6234 - accuracy: 0.6678 - val_loss: 0.6291 - val_accuracy: 0.6504 - lr: 5.0000e-05\n",
            "Epoch 6/100\n",
            "38/38 [==============================] - 27s 726ms/step - loss: 0.6207 - accuracy: 0.6678 - val_loss: 0.6278 - val_accuracy: 0.6504 - lr: 5.0000e-05\n",
            "Epoch 7/100\n",
            "38/38 [==============================] - 27s 715ms/step - loss: 0.6182 - accuracy: 0.6728 - val_loss: 0.6266 - val_accuracy: 0.6563 - lr: 5.0000e-05\n",
            "Epoch 8/100\n",
            "38/38 [==============================] - 27s 716ms/step - loss: 0.6159 - accuracy: 0.6741 - val_loss: 0.6255 - val_accuracy: 0.6533 - lr: 5.0000e-05\n",
            "Epoch 9/100\n",
            "38/38 [==============================] - 31s 833ms/step - loss: 0.6137 - accuracy: 0.6750 - val_loss: 0.6247 - val_accuracy: 0.6504 - lr: 5.0000e-05\n",
            "Epoch 10/100\n",
            "38/38 [==============================] - 27s 720ms/step - loss: 0.6115 - accuracy: 0.6788 - val_loss: 0.6238 - val_accuracy: 0.6519 - lr: 5.0000e-05\n",
            "Epoch 11/100\n",
            "38/38 [==============================] - 28s 735ms/step - loss: 0.6094 - accuracy: 0.6813 - val_loss: 0.6228 - val_accuracy: 0.6474 - lr: 4.9502e-05\n",
            "Epoch 12/100\n",
            "38/38 [==============================] - 27s 712ms/step - loss: 0.6076 - accuracy: 0.6800 - val_loss: 0.6220 - val_accuracy: 0.6474 - lr: 4.9010e-05\n",
            "Epoch 13/100\n",
            "38/38 [==============================] - 27s 714ms/step - loss: 0.6058 - accuracy: 0.6825 - val_loss: 0.6211 - val_accuracy: 0.6504 - lr: 4.8522e-05\n",
            "Epoch 14/100\n",
            "38/38 [==============================] - 27s 723ms/step - loss: 0.6041 - accuracy: 0.6834 - val_loss: 0.6204 - val_accuracy: 0.6504 - lr: 4.8039e-05\n",
            "Epoch 15/100\n",
            "38/38 [==============================] - 28s 732ms/step - loss: 0.6025 - accuracy: 0.6825 - val_loss: 0.6198 - val_accuracy: 0.6489 - lr: 4.7561e-05\n",
            "Epoch 16/100\n",
            "38/38 [==============================] - 27s 708ms/step - loss: 0.6009 - accuracy: 0.6851 - val_loss: 0.6191 - val_accuracy: 0.6533 - lr: 4.7088e-05\n",
            "Epoch 17/100\n",
            "38/38 [==============================] - 28s 738ms/step - loss: 0.5994 - accuracy: 0.6863 - val_loss: 0.6186 - val_accuracy: 0.6519 - lr: 4.6620e-05\n",
            "Epoch 18/100\n",
            "38/38 [==============================] - 31s 831ms/step - loss: 0.5980 - accuracy: 0.6872 - val_loss: 0.6180 - val_accuracy: 0.6548 - lr: 4.6156e-05\n",
            "Epoch 19/100\n",
            "38/38 [==============================] - 27s 712ms/step - loss: 0.5966 - accuracy: 0.6876 - val_loss: 0.6175 - val_accuracy: 0.6593 - lr: 4.5697e-05\n",
            "Epoch 20/100\n",
            "38/38 [==============================] - 28s 732ms/step - loss: 0.5952 - accuracy: 0.6889 - val_loss: 0.6170 - val_accuracy: 0.6607 - lr: 4.5242e-05\n",
            "Epoch 21/100\n",
            "38/38 [==============================] - 27s 717ms/step - loss: 0.5938 - accuracy: 0.6910 - val_loss: 0.6165 - val_accuracy: 0.6593 - lr: 4.4792e-05\n",
            "Epoch 22/100\n",
            "38/38 [==============================] - 28s 741ms/step - loss: 0.5924 - accuracy: 0.6922 - val_loss: 0.6159 - val_accuracy: 0.6622 - lr: 4.4346e-05\n",
            "Epoch 23/100\n",
            "38/38 [==============================] - 27s 712ms/step - loss: 0.5911 - accuracy: 0.6922 - val_loss: 0.6155 - val_accuracy: 0.6622 - lr: 4.3905e-05\n",
            "Epoch 24/100\n",
            "38/38 [==============================] - 27s 719ms/step - loss: 0.5899 - accuracy: 0.6922 - val_loss: 0.6152 - val_accuracy: 0.6637 - lr: 4.3468e-05\n",
            "Epoch 25/100\n",
            "38/38 [==============================] - 27s 719ms/step - loss: 0.5888 - accuracy: 0.6927 - val_loss: 0.6149 - val_accuracy: 0.6622 - lr: 4.3035e-05\n",
            "Epoch 26/100\n",
            "38/38 [==============================] - 27s 720ms/step - loss: 0.5877 - accuracy: 0.6935 - val_loss: 0.6144 - val_accuracy: 0.6637 - lr: 4.2607e-05\n",
            "Epoch 27/100\n",
            "38/38 [==============================] - 28s 740ms/step - loss: 0.5866 - accuracy: 0.6960 - val_loss: 0.6141 - val_accuracy: 0.6667 - lr: 4.2183e-05\n",
            "Epoch 28/100\n",
            "38/38 [==============================] - 27s 712ms/step - loss: 0.5855 - accuracy: 0.6952 - val_loss: 0.6138 - val_accuracy: 0.6637 - lr: 4.1764e-05\n",
            "Epoch 29/100\n",
            "38/38 [==============================] - 27s 715ms/step - loss: 0.5845 - accuracy: 0.6952 - val_loss: 0.6135 - val_accuracy: 0.6637 - lr: 4.1348e-05\n",
            "Epoch 30/100\n",
            "38/38 [==============================] - 27s 719ms/step - loss: 0.5835 - accuracy: 0.6973 - val_loss: 0.6132 - val_accuracy: 0.6637 - lr: 4.0937e-05\n",
            "Epoch 31/100\n",
            "38/38 [==============================] - 31s 832ms/step - loss: 0.5825 - accuracy: 0.6986 - val_loss: 0.6129 - val_accuracy: 0.6637 - lr: 4.0529e-05\n",
            "Epoch 32/100\n",
            "38/38 [==============================] - 27s 716ms/step - loss: 0.5815 - accuracy: 0.7007 - val_loss: 0.6126 - val_accuracy: 0.6637 - lr: 4.0126e-05\n",
            "Epoch 33/100\n",
            "38/38 [==============================] - 27s 723ms/step - loss: 0.5806 - accuracy: 0.7015 - val_loss: 0.6124 - val_accuracy: 0.6667 - lr: 3.9727e-05\n",
            "Epoch 34/100\n",
            "38/38 [==============================] - 31s 829ms/step - loss: 0.5796 - accuracy: 0.7011 - val_loss: 0.6122 - val_accuracy: 0.6652 - lr: 3.9331e-05\n",
            "Epoch 35/100\n",
            "38/38 [==============================] - 28s 731ms/step - loss: 0.5787 - accuracy: 0.7015 - val_loss: 0.6120 - val_accuracy: 0.6667 - lr: 3.8940e-05\n",
            "Epoch 36/100\n",
            "38/38 [==============================] - 27s 722ms/step - loss: 0.5778 - accuracy: 0.7019 - val_loss: 0.6117 - val_accuracy: 0.6696 - lr: 3.8553e-05\n",
            "Epoch 37/100\n",
            "38/38 [==============================] - 27s 716ms/step - loss: 0.5769 - accuracy: 0.7024 - val_loss: 0.6115 - val_accuracy: 0.6696 - lr: 3.8169e-05\n",
            "Epoch 38/100\n",
            "38/38 [==============================] - 27s 719ms/step - loss: 0.5761 - accuracy: 0.7032 - val_loss: 0.6112 - val_accuracy: 0.6667 - lr: 3.7789e-05\n",
            "Epoch 39/100\n",
            "38/38 [==============================] - 27s 718ms/step - loss: 0.5752 - accuracy: 0.7032 - val_loss: 0.6110 - val_accuracy: 0.6667 - lr: 3.7413e-05\n",
            "Epoch 40/100\n",
            "38/38 [==============================] - 27s 717ms/step - loss: 0.5743 - accuracy: 0.7045 - val_loss: 0.6108 - val_accuracy: 0.6681 - lr: 3.7041e-05\n",
            "Epoch 41/100\n",
            "38/38 [==============================] - 27s 720ms/step - loss: 0.5735 - accuracy: 0.7049 - val_loss: 0.6106 - val_accuracy: 0.6637 - lr: 3.6672e-05\n",
            "Epoch 42/100\n",
            "38/38 [==============================] - 32s 839ms/step - loss: 0.5727 - accuracy: 0.7032 - val_loss: 0.6104 - val_accuracy: 0.6652 - lr: 3.6307e-05\n",
            "Epoch 43/100\n",
            "38/38 [==============================] - 27s 716ms/step - loss: 0.5718 - accuracy: 0.7032 - val_loss: 0.6103 - val_accuracy: 0.6652 - lr: 3.5946e-05\n",
            "Epoch 44/100\n",
            "38/38 [==============================] - 27s 716ms/step - loss: 0.5711 - accuracy: 0.7040 - val_loss: 0.6101 - val_accuracy: 0.6652 - lr: 3.5589e-05\n",
            "Epoch 45/100\n",
            "38/38 [==============================] - 27s 716ms/step - loss: 0.5703 - accuracy: 0.7053 - val_loss: 0.6099 - val_accuracy: 0.6652 - lr: 3.5234e-05\n",
            "Epoch 46/100\n",
            "38/38 [==============================] - 27s 719ms/step - loss: 0.5695 - accuracy: 0.7053 - val_loss: 0.6097 - val_accuracy: 0.6667 - lr: 3.4884e-05\n",
            "Epoch 47/100\n",
            "38/38 [==============================] - 27s 719ms/step - loss: 0.5688 - accuracy: 0.7070 - val_loss: 0.6096 - val_accuracy: 0.6681 - lr: 3.4537e-05\n",
            "Epoch 48/100\n",
            "38/38 [==============================] - 27s 723ms/step - loss: 0.5680 - accuracy: 0.7070 - val_loss: 0.6095 - val_accuracy: 0.6711 - lr: 3.4193e-05\n",
            "Epoch 49/100\n",
            "38/38 [==============================] - 27s 719ms/step - loss: 0.5672 - accuracy: 0.7078 - val_loss: 0.6093 - val_accuracy: 0.6711 - lr: 3.3853e-05\n",
            "Epoch 50/100\n",
            "38/38 [==============================] - 28s 736ms/step - loss: 0.5665 - accuracy: 0.7083 - val_loss: 0.6093 - val_accuracy: 0.6696 - lr: 3.3516e-05\n",
            "Epoch 51/100\n",
            "38/38 [==============================] - 31s 828ms/step - loss: 0.5658 - accuracy: 0.7091 - val_loss: 0.6091 - val_accuracy: 0.6696 - lr: 3.3183e-05\n",
            "Epoch 52/100\n",
            "38/38 [==============================] - 27s 712ms/step - loss: 0.5651 - accuracy: 0.7087 - val_loss: 0.6090 - val_accuracy: 0.6696 - lr: 3.2852e-05\n",
            "Epoch 53/100\n",
            "38/38 [==============================] - 28s 736ms/step - loss: 0.5644 - accuracy: 0.7091 - val_loss: 0.6088 - val_accuracy: 0.6681 - lr: 3.2525e-05\n",
            "Epoch 54/100\n",
            "38/38 [==============================] - 27s 713ms/step - loss: 0.5638 - accuracy: 0.7091 - val_loss: 0.6087 - val_accuracy: 0.6667 - lr: 3.2202e-05\n",
            "Epoch 55/100\n",
            "38/38 [==============================] - 28s 733ms/step - loss: 0.5631 - accuracy: 0.7095 - val_loss: 0.6086 - val_accuracy: 0.6667 - lr: 3.1881e-05\n",
            "Epoch 56/100\n",
            "38/38 [==============================] - 27s 716ms/step - loss: 0.5624 - accuracy: 0.7095 - val_loss: 0.6086 - val_accuracy: 0.6652 - lr: 3.1564e-05\n",
            "Epoch 57/100\n",
            "38/38 [==============================] - 27s 713ms/step - loss: 0.5618 - accuracy: 0.7091 - val_loss: 0.6084 - val_accuracy: 0.6652 - lr: 3.1250e-05\n",
            "Epoch 58/100\n",
            "38/38 [==============================] - 28s 736ms/step - loss: 0.5612 - accuracy: 0.7091 - val_loss: 0.6084 - val_accuracy: 0.6637 - lr: 3.0939e-05\n",
            "Epoch 59/100\n",
            "38/38 [==============================] - 27s 713ms/step - loss: 0.5605 - accuracy: 0.7099 - val_loss: 0.6083 - val_accuracy: 0.6652 - lr: 3.0631e-05\n",
            "Epoch 60/100\n",
            "38/38 [==============================] - 27s 713ms/step - loss: 0.5599 - accuracy: 0.7083 - val_loss: 0.6082 - val_accuracy: 0.6652 - lr: 3.0327e-05\n",
            "Epoch 61/100\n",
            "38/38 [==============================] - 28s 734ms/step - loss: 0.5593 - accuracy: 0.7083 - val_loss: 0.6081 - val_accuracy: 0.6622 - lr: 3.0025e-05\n",
            "Epoch 62/100\n",
            "38/38 [==============================] - 27s 713ms/step - loss: 0.5587 - accuracy: 0.7083 - val_loss: 0.6081 - val_accuracy: 0.6622 - lr: 2.9726e-05\n",
            "Epoch 63/100\n",
            "38/38 [==============================] - 27s 714ms/step - loss: 0.5581 - accuracy: 0.7091 - val_loss: 0.6080 - val_accuracy: 0.6622 - lr: 2.9430e-05\n",
            "Epoch 64/100\n",
            "38/38 [==============================] - 27s 719ms/step - loss: 0.5574 - accuracy: 0.7099 - val_loss: 0.6079 - val_accuracy: 0.6622 - lr: 2.9137e-05\n",
            "Epoch 65/100\n",
            "38/38 [==============================] - 27s 718ms/step - loss: 0.5569 - accuracy: 0.7112 - val_loss: 0.6079 - val_accuracy: 0.6637 - lr: 2.8847e-05\n",
            "Epoch 66/100\n",
            "38/38 [==============================] - 27s 718ms/step - loss: 0.5563 - accuracy: 0.7129 - val_loss: 0.6078 - val_accuracy: 0.6622 - lr: 2.8560e-05\n",
            "Epoch 67/100\n",
            "38/38 [==============================] - 27s 716ms/step - loss: 0.5557 - accuracy: 0.7129 - val_loss: 0.6077 - val_accuracy: 0.6622 - lr: 2.8276e-05\n",
            "Epoch 68/100\n",
            "38/38 [==============================] - 27s 716ms/step - loss: 0.5551 - accuracy: 0.7137 - val_loss: 0.6077 - val_accuracy: 0.6637 - lr: 2.7995e-05\n",
            "Epoch 69/100\n",
            "38/38 [==============================] - 27s 721ms/step - loss: 0.5546 - accuracy: 0.7146 - val_loss: 0.6076 - val_accuracy: 0.6637 - lr: 2.7716e-05\n",
            "Epoch 70/100\n",
            "38/38 [==============================] - 32s 838ms/step - loss: 0.5540 - accuracy: 0.7154 - val_loss: 0.6075 - val_accuracy: 0.6637 - lr: 2.7441e-05\n",
            "Epoch 71/100\n",
            "38/38 [==============================] - 27s 721ms/step - loss: 0.5534 - accuracy: 0.7154 - val_loss: 0.6075 - val_accuracy: 0.6637 - lr: 2.7168e-05\n",
            "Epoch 72/100\n",
            "38/38 [==============================] - 27s 724ms/step - loss: 0.5529 - accuracy: 0.7150 - val_loss: 0.6074 - val_accuracy: 0.6637 - lr: 2.6897e-05\n",
            "Epoch 73/100\n",
            "38/38 [==============================] - 27s 724ms/step - loss: 0.5524 - accuracy: 0.7159 - val_loss: 0.6074 - val_accuracy: 0.6637 - lr: 2.6630e-05\n",
            "Epoch 74/100\n",
            "38/38 [==============================] - 27s 714ms/step - loss: 0.5518 - accuracy: 0.7163 - val_loss: 0.6073 - val_accuracy: 0.6637 - lr: 2.6365e-05\n",
            "Epoch 75/100\n",
            "38/38 [==============================] - 27s 715ms/step - loss: 0.5513 - accuracy: 0.7175 - val_loss: 0.6073 - val_accuracy: 0.6637 - lr: 2.6102e-05\n",
            "Epoch 76/100\n",
            "38/38 [==============================] - 27s 719ms/step - loss: 0.5508 - accuracy: 0.7171 - val_loss: 0.6072 - val_accuracy: 0.6622 - lr: 2.5843e-05\n",
            "Epoch 77/100\n",
            "38/38 [==============================] - 27s 719ms/step - loss: 0.5503 - accuracy: 0.7175 - val_loss: 0.6072 - val_accuracy: 0.6637 - lr: 2.5585e-05\n",
            "Epoch 78/100\n",
            "38/38 [==============================] - 28s 738ms/step - loss: 0.5498 - accuracy: 0.7175 - val_loss: 0.6072 - val_accuracy: 0.6637 - lr: 2.5331e-05\n",
            "Epoch 79/100\n",
            "38/38 [==============================] - 31s 823ms/step - loss: 0.5493 - accuracy: 0.7175 - val_loss: 0.6071 - val_accuracy: 0.6622 - lr: 2.5079e-05\n",
            "Epoch 80/100\n",
            "38/38 [==============================] - 28s 733ms/step - loss: 0.5488 - accuracy: 0.7188 - val_loss: 0.6071 - val_accuracy: 0.6622 - lr: 2.4829e-05\n",
            "Epoch 81/100\n",
            "38/38 [==============================] - 27s 720ms/step - loss: 0.5483 - accuracy: 0.7196 - val_loss: 0.6070 - val_accuracy: 0.6622 - lr: 2.4582e-05\n",
            "Epoch 82/100\n",
            "38/38 [==============================] - 27s 710ms/step - loss: 0.5477 - accuracy: 0.7201 - val_loss: 0.6070 - val_accuracy: 0.6622 - lr: 2.4338e-05\n",
            "Epoch 83/100\n",
            "38/38 [==============================] - 27s 718ms/step - loss: 0.5473 - accuracy: 0.7205 - val_loss: 0.6070 - val_accuracy: 0.6637 - lr: 2.4095e-05\n",
            "Epoch 84/100\n",
            "38/38 [==============================] - 27s 721ms/step - loss: 0.5468 - accuracy: 0.7205 - val_loss: 0.6069 - val_accuracy: 0.6637 - lr: 2.3856e-05\n",
            "Epoch 85/100\n",
            "38/38 [==============================] - 27s 716ms/step - loss: 0.5463 - accuracy: 0.7213 - val_loss: 0.6069 - val_accuracy: 0.6637 - lr: 2.3618e-05\n",
            "Epoch 86/100\n",
            "38/38 [==============================] - 27s 717ms/step - loss: 0.5459 - accuracy: 0.7213 - val_loss: 0.6068 - val_accuracy: 0.6622 - lr: 2.3383e-05\n",
            "Epoch 87/100\n",
            "38/38 [==============================] - 27s 718ms/step - loss: 0.5454 - accuracy: 0.7209 - val_loss: 0.6068 - val_accuracy: 0.6637 - lr: 2.3151e-05\n",
            "Epoch 88/100\n",
            "38/38 [==============================] - 27s 719ms/step - loss: 0.5449 - accuracy: 0.7209 - val_loss: 0.6067 - val_accuracy: 0.6622 - lr: 2.2920e-05\n",
            "Epoch 89/100\n",
            "38/38 [==============================] - 27s 718ms/step - loss: 0.5445 - accuracy: 0.7226 - val_loss: 0.6067 - val_accuracy: 0.6622 - lr: 2.2692e-05\n",
            "Epoch 90/100\n",
            "38/38 [==============================] - 27s 717ms/step - loss: 0.5440 - accuracy: 0.7226 - val_loss: 0.6067 - val_accuracy: 0.6607 - lr: 2.2466e-05\n",
            "Epoch 91/100\n",
            "38/38 [==============================] - 27s 717ms/step - loss: 0.5436 - accuracy: 0.7243 - val_loss: 0.6066 - val_accuracy: 0.6607 - lr: 2.2243e-05\n",
            "Epoch 92/100\n",
            "38/38 [==============================] - 27s 718ms/step - loss: 0.5431 - accuracy: 0.7247 - val_loss: 0.6066 - val_accuracy: 0.6607 - lr: 2.2022e-05\n",
            "Epoch 93/100\n",
            "38/38 [==============================] - 27s 717ms/step - loss: 0.5427 - accuracy: 0.7251 - val_loss: 0.6065 - val_accuracy: 0.6607 - lr: 2.1802e-05\n",
            "Epoch 94/100\n",
            "38/38 [==============================] - 31s 832ms/step - loss: 0.5422 - accuracy: 0.7251 - val_loss: 0.6064 - val_accuracy: 0.6607 - lr: 2.1586e-05\n",
            "Epoch 95/100\n",
            "38/38 [==============================] - 27s 717ms/step - loss: 0.5418 - accuracy: 0.7251 - val_loss: 0.6064 - val_accuracy: 0.6607 - lr: 2.1371e-05\n",
            "Epoch 96/100\n",
            "38/38 [==============================] - 27s 721ms/step - loss: 0.5414 - accuracy: 0.7251 - val_loss: 0.6064 - val_accuracy: 0.6593 - lr: 2.1158e-05\n",
            "Epoch 97/100\n",
            "38/38 [==============================] - 27s 715ms/step - loss: 0.5409 - accuracy: 0.7251 - val_loss: 0.6063 - val_accuracy: 0.6593 - lr: 2.0948e-05\n",
            "Epoch 98/100\n",
            "38/38 [==============================] - 27s 717ms/step - loss: 0.5405 - accuracy: 0.7251 - val_loss: 0.6063 - val_accuracy: 0.6593 - lr: 2.0739e-05\n",
            "Epoch 99/100\n",
            "38/38 [==============================] - 27s 718ms/step - loss: 0.5401 - accuracy: 0.7251 - val_loss: 0.6062 - val_accuracy: 0.6593 - lr: 2.0533e-05\n",
            "Epoch 100/100\n",
            "38/38 [==============================] - 27s 720ms/step - loss: 0.5397 - accuracy: 0.7247 - val_loss: 0.6062 - val_accuracy: 0.6578 - lr: 2.0328e-05\n"
          ]
        }
      ]
    },
    {
      "cell_type": "code",
      "source": [
        "plt.figure()\n",
        "plt.plot(history.history['loss'], label='Training')\n",
        "plt.plot(history.history['val_loss'], label='Validation')\n",
        "plt.legend(loc=0)\n",
        "plt.title('Model Loss')\n",
        "\n",
        "plt.figure()\n",
        "plt.plot(history.history['accuracy'], label='Training')\n",
        "plt.plot(history.history['val_accuracy'], label='Validation')\n",
        "plt.legend(loc=0)\n",
        "plt.title('Model Accuracy')\n",
        "\n",
        "plt.show()"
      ],
      "metadata": {
        "id": "PzDsdmx8Pygu",
        "colab": {
          "base_uri": "https://localhost:8080/",
          "height": 887
        },
        "outputId": "934441d1-7aea-4c4a-f007-faeea2e733c5"
      },
      "execution_count": 15,
      "outputs": [
        {
          "output_type": "display_data",
          "data": {
            "text/plain": [
              "<Figure size 640x480 with 1 Axes>"
            ],
            "image/png": "[encoded data removed]"
          },
          "metadata": {}
        },
        {
          "output_type": "display_data",
          "data": {
            "text/plain": [
              "<Figure size 640x480 with 1 Axes>"
            ],
            "image/png": "[encoded data removed]"
          },
          "metadata": {}
        }
      ]
    },
    {
      "cell_type": "code",
      "source": [],
      "metadata": {
        "id": "vnkeq1WSEDt0"
      },
      "execution_count": 15,
      "outputs": []
    }
  ]
}
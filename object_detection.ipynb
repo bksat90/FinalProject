{
  "nbformat": 4,
  "nbformat_minor": 0,
  "metadata": {
    "colab": {
      "provenance": [],
      "authorship_tag": "ABX9TyNO1We9nwvNbAcoOqmOUYVM",
      "include_colab_link": true
    },
    "kernelspec": {
      "name": "python3",
      "display_name": "Python 3"
    },
    "language_info": {
      "name": "python"
    }
  },
  "cells": [
    {
      "cell_type": "markdown",
      "metadata": {
        "id": "view-in-github",
        "colab_type": "text"
      },
      "source": [
        "<a href=\"https://colab.research.google.com/github/bksat90/FinalProject/blob/main/object_detection.ipynb\" target=\"_parent\"><img src=\"https://colab.research.google.com/assets/colab-badge.svg\" alt=\"Open In Colab\"/></a>"
      ]
    },
    {
      "cell_type": "code",
      "execution_count": 31,
      "metadata": {
        "id": "K9aMxf-MMi5g"
      },
      "outputs": [],
      "source": [
        "# Installation of KerasCV.\n",
        "!pip install -q --upgrade keras-cv"
      ]
    },
    {
      "cell_type": "code",
      "source": [
        "# Importing relevant modules.\n",
        "import os\n",
        "import tqdm\n",
        "import numpy as np\n",
        "\n",
        "os.environ[\"KERAS_BACKEND\"] = \"tensorflow\"\n",
        "from tensorflow import data as tf_data\n",
        "import tensorflow_datasets as tfds\n",
        "import keras\n",
        "import keras_cv\n",
        "from keras_cv import bounding_box\n",
        "from keras_cv import visualization\n",
        "import xml.etree.ElementTree as ET\n",
        "import tensorflow as tf"
      ],
      "metadata": {
        "id": "6eoCBX3OMuM0"
      },
      "execution_count": 32,
      "outputs": []
    },
    {
      "cell_type": "code",
      "source": [
        "# Import and mount Google Drive.\n",
        "from google.colab import drive\n",
        "\n",
        "drive.mount(\"/content/drive\")"
      ],
      "metadata": {
        "colab": {
          "base_uri": "https://localhost:8080/"
        },
        "id": "c6rbqWUqNEE9",
        "outputId": "c0b15901-ae64-4c24-b2e6-583700b68407"
      },
      "execution_count": 33,
      "outputs": [
        {
          "output_type": "stream",
          "name": "stdout",
          "text": [
            "Drive already mounted at /content/drive; to attempt to forcibly remount, call drive.mount(\"/content/drive\", force_remount=True).\n"
          ]
        }
      ]
    },
    {
      "cell_type": "code",
      "source": [
        "# # Unzip the dataset file and store it in a folder called images.\n",
        "# !unzip \"/content/drive/MyDrive/Project_BC/data_voc.zip\" -d \"/content/drive/MyDrive/Project_BC/data/\""
      ],
      "metadata": {
        "collapsed": true,
        "id": "hnBovf1YVdbe"
      },
      "execution_count": 34,
      "outputs": []
    },
    {
      "cell_type": "code",
      "source": [
        "class_ids = [\n",
        "    \"0\",\n",
        "    \"1\",\n",
        "]\n",
        "class_mapping = dict(zip(range(len(class_ids)), class_ids))\n",
        "\n",
        "# Path to images and annotations\n",
        "train_path = \"/content/drive/MyDrive/Project_BC/data/train/\"\n",
        "test_path = \"/content/drive/MyDrive/Project_BC/data/test/\"\n",
        "\n",
        "# Get all XML file paths in path_annot and sort them\n",
        "train_xml_files = sorted(\n",
        "    [\n",
        "        os.path.join(train_path, file_name)\n",
        "        for file_name in os.listdir(train_path)\n",
        "        if file_name.endswith(\".xml\")\n",
        "    ]\n",
        ")\n",
        "\n",
        "# Get all train JPEG image file paths in path_images and sort them\n",
        "train_jpg_files = sorted(\n",
        "    [\n",
        "        os.path.join(train_path, file_name)\n",
        "        for file_name in os.listdir(train_path)\n",
        "        if file_name.endswith(\".jpg\")\n",
        "    ]\n",
        ")\n",
        "\n",
        "test_xml_files = sorted(\n",
        "    [\n",
        "        os.path.join(test_path, file_name)\n",
        "        for file_name in os.listdir(test_path)\n",
        "        if file_name.endswith(\".xml\")\n",
        "    ]\n",
        ")\n",
        "\n",
        "# Get all test JPEG image file paths in path_images and sort them\n",
        "test_jpg_files = sorted(\n",
        "    [\n",
        "        os.path.join(test_path, file_name)\n",
        "        for file_name in os.listdir(test_path)\n",
        "        if file_name.endswith(\".jpg\")\n",
        "    ]\n",
        ")"
      ],
      "metadata": {
        "id": "LcUpwlB8VtfM"
      },
      "execution_count": 37,
      "outputs": []
    },
    {
      "cell_type": "code",
      "source": [
        "def parse_annotation(xml_file, path_images):\n",
        "    tree = ET.parse(xml_file)\n",
        "    root = tree.getroot()\n",
        "\n",
        "    image_name = root.find(\"filename\").text\n",
        "    image_path = os.path.join(path_images, image_name)\n",
        "\n",
        "    boxes = []\n",
        "    classes = []\n",
        "    for obj in root.iter(\"object\"):\n",
        "        cls = obj.find(\"name\").text\n",
        "        classes.append(cls)\n",
        "\n",
        "        bbox = obj.find(\"bndbox\")\n",
        "        xmin = float(bbox.find(\"xmin\").text)\n",
        "        ymin = float(bbox.find(\"ymin\").text)\n",
        "        xmax = float(bbox.find(\"xmax\").text)\n",
        "        ymax = float(bbox.find(\"ymax\").text)\n",
        "        boxes.append([xmin, ymin, xmax, ymax])\n",
        "\n",
        "    class_ids = [\n",
        "        list(class_mapping.keys())[list(class_mapping.values()).index(cls)]\n",
        "        for cls in classes\n",
        "    ]\n",
        "    return image_path, boxes, class_ids"
      ],
      "metadata": {
        "id": "ZprU1O7gYHWt"
      },
      "execution_count": 38,
      "outputs": []
    },
    {
      "cell_type": "code",
      "source": [
        "# training set\n",
        "tr_image_paths = []\n",
        "tr_bbox = []\n",
        "tr_classes = []\n",
        "for xml_file in train_xml_files:\n",
        "    image_path, boxes, class_ids = parse_annotation(xml_file, train_path)\n",
        "    tr_image_paths.append(image_path)\n",
        "    tr_bbox.append(boxes)\n",
        "    tr_classes.append(class_ids)"
      ],
      "metadata": {
        "id": "hFmsImUxaClU"
      },
      "execution_count": 39,
      "outputs": []
    },
    {
      "cell_type": "code",
      "source": [
        "# test set\n",
        "tt_image_paths = []\n",
        "tt_bbox = []\n",
        "tt_classes = []\n",
        "for xml_file in test_xml_files:\n",
        "    image_path, boxes, class_ids = parse_annotation(xml_file, test_path)\n",
        "    tt_image_paths.append(image_path)\n",
        "    tt_bbox.append(boxes)\n",
        "    tt_classes.append(class_ids)"
      ],
      "metadata": {
        "id": "2BzK-zLabNWV"
      },
      "execution_count": 40,
      "outputs": []
    },
    {
      "cell_type": "code",
      "source": [],
      "metadata": {
        "id": "w-7CLaCrbvta"
      },
      "execution_count": null,
      "outputs": []
    }
  ]
}